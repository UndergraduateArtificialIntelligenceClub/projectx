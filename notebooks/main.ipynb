{
  "nbformat": 4,
  "nbformat_minor": 0,
  "metadata": {
    "colab": {
      "name": "DataImport.ipynb",
      "provenance": [],
      "collapsed_sections": []
    },
    "kernelspec": {
      "name": "python3",
      "display_name": "Python 3"
    }
  },
  "cells": [
    {
      "cell_type": "code",
      "metadata": {
        "id": "K0MxnNOnD5v0"
      },
      "source": [
        "from google.colab import drive\n",
        "import numpy as np\n",
        "import ee"
      ],
      "execution_count": 12,
      "outputs": []
    },
    {
      "cell_type": "code",
      "metadata": {
        "id": "SoX3OmV9ECN5",
        "outputId": "c5a12dd5-ca67-4e39-a18e-b0578643c87f",
        "colab": {
          "base_uri": "https://localhost:8080/",
          "height": 34
        }
      },
      "source": [
        "drive.mount(\"/content/gdrive\")"
      ],
      "execution_count": null,
      "outputs": [
        {
          "output_type": "stream",
          "text": [
            "Mounted at /content/gdrive\n"
          ],
          "name": "stdout"
        }
      ]
    },
    {
      "cell_type": "code",
      "metadata": {
        "id": "ftnZLa3rEECu",
        "outputId": "0598bdaa-70ce-4d77-cba8-1f51c372d318",
        "colab": {
          "base_uri": "https://localhost:8080/",
          "height": 34
        }
      },
      "source": [
        "cd /content/gdrive/Shared\\ drives/Project\\ X/"
      ],
      "execution_count": null,
      "outputs": [
        {
          "output_type": "stream",
          "text": [
            "/content/gdrive\n"
          ],
          "name": "stdout"
        }
      ]
    },
    {
      "cell_type": "code",
      "metadata": {
        "id": "6QhoYoxDEeK2"
      },
      "source": [
        "cd Data Analysis\n",
        "cd country_profiles_data/"
      ],
      "execution_count": null,
      "outputs": []
    },
    {
      "cell_type": "code",
      "metadata": {
        "id": "CPouzMCaEfkE",
        "outputId": "3eedaead-c80b-4df8-b69a-7a9826d2e372",
        "colab": {
          "base_uri": "https://localhost:8080/",
          "height": 88
        }
      },
      "source": [
        "ls"
      ],
      "execution_count": 8,
      "outputs": [
        {
          "output_type": "stream",
          "text": [
            "2010_TempSuitability.Pf.AnnualInfectiousDays.1k.global_Decompressed__8c639f5d-0650-4319-87b6-8271070fe33d.tiff\n",
            "2010_TempSuitability.Pf.Index.1k.global_Decompressed__bfcec101-96e2-4bc6-8835-b9071b212185.tiff\n",
            "2019_Global_PvPR_2001_6617c87f-ac35-4622-931c-d3d7af22f96c.tiff\n",
            "2019_Global_PvPR_2002_5731487c-470e-46fa-b690-8ac6cb142717.tiff\n"
          ],
          "name": "stdout"
        }
      ]
    },
    {
      "cell_type": "code",
      "metadata": {
        "id": "-XXtjo9dFg9x"
      },
      "source": [
        ""
      ],
      "execution_count": null,
      "outputs": []
    },
    {
      "cell_type": "code",
      "metadata": {
        "id": "2D6YqQZhFiYz"
      },
      "source": [
        "from PIL import Image\n",
        "im = Image.open('2010_TempSuitability.Pf.AnnualInfectiousDays.1k.global_Decompressed__8c639f5d-0650-4319-87b6-8271070fe33d.tiff')\n",
        "im.show()"
      ],
      "execution_count": 9,
      "outputs": []
    },
    {
      "cell_type": "code",
      "metadata": {
        "id": "3CIHm9RlGOP_"
      },
      "source": [
        "imarray = np.array(im)"
      ],
      "execution_count": 13,
      "outputs": []
    },
    {
      "cell_type": "code",
      "metadata": {
        "id": "RwBH7VhIGh9J",
        "outputId": "59186593-c37d-416b-8e18-f9760c9ee597",
        "colab": {
          "base_uri": "https://localhost:8080/",
          "height": 142
        }
      },
      "source": [
        "imarray"
      ],
      "execution_count": 14,
      "outputs": [
        {
          "output_type": "execute_result",
          "data": {
            "text/plain": [
              "array([[0., 0., 0., ..., 0., 0., 0.],\n",
              "       [0., 0., 0., ..., 0., 0., 0.],\n",
              "       [0., 0., 0., ..., 0., 0., 0.],\n",
              "       ...,\n",
              "       [0., 0., 0., ..., 0., 0., 0.],\n",
              "       [0., 0., 0., ..., 0., 0., 0.],\n",
              "       [0., 0., 0., ..., 0., 0., 0.]], dtype=float32)"
            ]
          },
          "metadata": {
            "tags": []
          },
          "execution_count": 14
        }
      ]
    },
    {
      "cell_type": "code",
      "metadata": {
        "id": "EvjRDOE1Gkx7"
      },
      "source": [
        ""
      ],
      "execution_count": null,
      "outputs": []
    }
  ]
}